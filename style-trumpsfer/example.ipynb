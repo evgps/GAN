{
 "cells": [
  {
   "cell_type": "code",
   "execution_count": 3,
   "metadata": {},
   "outputs": [],
   "source": [
    "from torch.utils.data import DataLoader\n",
    "from load_data import load_data, StyleDataset\n",
    "from sklearn.model_selection import train_test_split"
   ]
  },
  {
   "cell_type": "code",
   "execution_count": 2,
   "metadata": {},
   "outputs": [],
   "source": [
    "dataset_list = [\n",
    "#     'data/sentiment.dev.0',\n",
    "#     'data/sentiment.dev.1'\n",
    "    'data/trump',\n",
    "    'data/musk'\n",
    "]\n",
    "\n",
    "X, y, numerator = load_data(dataset_list)\n",
    "X_train, X_test, y_train, y_test = train_test_split(X, y, shuffle=True, random_state=420)"
   ]
  },
  {
   "cell_type": "code",
   "execution_count": 2,
   "metadata": {},
   "outputs": [
    {
     "ename": "NameError",
     "evalue": "name 'DataLoader' is not defined",
     "output_type": "error",
     "traceback": [
      "\u001b[0;31m---------------------------------------------------------------------------\u001b[0m",
      "\u001b[0;31mNameError\u001b[0m                                 Traceback (most recent call last)",
      "\u001b[0;32m<ipython-input-2-4f5d48614107>\u001b[0m in \u001b[0;36m<module>\u001b[0;34m()\u001b[0m\n\u001b[1;32m      5\u001b[0m \u001b[0;31m#     'data/musk'\u001b[0m\u001b[0;34m\u001b[0m\u001b[0;34m\u001b[0m\u001b[0m\n\u001b[1;32m      6\u001b[0m ]\n\u001b[0;32m----> 7\u001b[0;31m train_loader = DataLoader(StyleDataset(X_train, y_train, numerator.embeddings, sentence_size=15),\n\u001b[0m\u001b[1;32m      8\u001b[0m                           batch_size=10, shuffle=True)\n",
      "\u001b[0;31mNameError\u001b[0m: name 'DataLoader' is not defined"
     ]
    }
   ],
   "source": [
    "train_loader = DataLoader(StyleDataset(X_train, y_train, numerator.embeddings, sentence_size=15),\n",
    "                          batch_size=10, shuffle=True)"
   ]
  },
  {
   "cell_type": "code",
   "execution_count": 5,
   "metadata": {},
   "outputs": [
    {
     "data": {
      "text/plain": [
       "[\n",
       " ( 0 ,.,.) = \n",
       "   0.0000  0.0000  0.0000  ...   0.2905 -0.3324 -0.5295\n",
       "   0.0000  0.0000  0.0000  ...  -0.0681 -0.2620 -0.0465\n",
       "   0.0000  1.0000  0.0000  ...   0.0000  0.0000  0.0000\n",
       "            ...             ⋱             ...          \n",
       "   0.0000  0.0000  0.0000  ...   0.2365  0.1066 -0.4172\n",
       "   0.0000  0.0000  0.0000  ...  -0.2128 -0.0134  0.0472\n",
       "   0.0000  1.0000  0.0000  ...   0.0000  0.0000  0.0000\n",
       " \n",
       " ( 1 ,.,.) = \n",
       "   0.0000  0.0000  0.0000  ...   0.2905 -0.3324 -0.5295\n",
       "   0.0000  0.0000  0.0000  ...  -0.0571 -0.0647  0.2377\n",
       "   0.0000  1.0000  0.0000  ...   0.0000  0.0000  0.0000\n",
       "            ...             ⋱             ...          \n",
       "   0.0000  0.0000  0.0000  ...   0.0797 -0.0558  0.0217\n",
       "   0.0000  0.0000  0.0000  ...  -0.3446  0.3099  0.2025\n",
       "   0.0000  0.0000  0.0000  ...   0.0301 -0.0042  0.7369\n",
       " \n",
       " ( 2 ,.,.) = \n",
       "   0.0000  0.0000  0.0000  ...   0.6468 -0.4110  0.8275\n",
       "   1.0000  0.0000  0.0000  ...   0.0000  0.0000  0.0000\n",
       "   1.0000  0.0000  0.0000  ...   0.0000  0.0000  0.0000\n",
       "            ...             ⋱             ...          \n",
       "   1.0000  0.0000  0.0000  ...   0.0000  0.0000  0.0000\n",
       "   1.0000  0.0000  0.0000  ...   0.0000  0.0000  0.0000\n",
       "   1.0000  0.0000  0.0000  ...   0.0000  0.0000  0.0000\n",
       " ... \n",
       " \n",
       " ( 7 ,.,.) = \n",
       "   0.0000  0.0000  0.0000  ...  -0.0695 -0.1606 -0.0989\n",
       "   0.0000  0.0000  0.0000  ...  -0.0857 -0.0021  0.0538\n",
       "   0.0000  0.0000  0.0000  ...  -0.1568 -0.1212 -0.1756\n",
       "            ...             ⋱             ...          \n",
       "   0.0000  0.0000  0.0000  ...  -0.0695 -0.1606 -0.0989\n",
       "   0.0000  0.0000  0.0000  ...   0.1897  0.1439 -0.3798\n",
       "   0.0000  0.0000  0.0000  ...  -0.1390 -0.1631 -0.1134\n",
       " \n",
       " ( 8 ,.,.) = \n",
       "   0.0000  0.0000  0.0000  ...   0.2905 -0.3324 -0.5295\n",
       "   0.0000  0.0000  0.0000  ...  -0.1371  0.1651  0.2788\n",
       "   0.0000  1.0000  0.0000  ...   0.0000  0.0000  0.0000\n",
       "            ...             ⋱             ...          \n",
       "   0.0000  0.0000  0.0000  ...   0.1769 -0.9931 -0.3535\n",
       "   0.0000  0.0000  0.0000  ...   0.1192 -0.2010 -0.6515\n",
       "   0.0000  0.0000  0.0000  ...   0.4134 -0.3466  0.2169\n",
       " \n",
       " ( 9 ,.,.) = \n",
       "   0.0000  0.0000  0.0000  ...   0.2905 -0.3324 -0.5295\n",
       "   0.0000  0.0000  0.0000  ...  -0.0044 -0.1114 -0.1594\n",
       "   0.0000  1.0000  0.0000  ...   0.0000  0.0000  0.0000\n",
       "            ...             ⋱             ...          \n",
       "   0.0000  0.0000  0.0000  ...   0.0020 -0.3357 -0.3346\n",
       "   0.0000  0.0000  0.0000  ...  -0.3708 -0.1854  0.0321\n",
       "   0.0000  0.0000  0.0000  ...  -0.3860 -0.1726 -0.3143\n",
       " [torch.DoubleTensor of size 10x15x304], \n",
       "     1     0\n",
       "     1     0\n",
       "     0     1\n",
       "     1     0\n",
       "     1     0\n",
       "     1     0\n",
       "     1     0\n",
       "     1     0\n",
       "     1     0\n",
       "     1     0\n",
       " [torch.DoubleTensor of size 10x2]]"
      ]
     },
     "execution_count": 5,
     "metadata": {},
     "output_type": "execute_result"
    }
   ],
   "source": [
    "next(iter(train_loader))"
   ]
  },
  {
   "cell_type": "code",
   "execution_count": 4,
   "metadata": {},
   "outputs": [],
   "source": [
    "for batch in train_loader:\n",
    "    pass"
   ]
  },
  {
   "cell_type": "code",
   "execution_count": null,
   "metadata": {},
   "outputs": [],
   "source": []
  }
 ],
 "metadata": {
  "kernelspec": {
   "display_name": "Python 3",
   "language": "python",
   "name": "python3"
  },
  "language_info": {
   "codemirror_mode": {
    "name": "ipython",
    "version": 3
   },
   "file_extension": ".py",
   "mimetype": "text/x-python",
   "name": "python",
   "nbconvert_exporter": "python",
   "pygments_lexer": "ipython3",
   "version": "3.6.3"
  }
 },
 "nbformat": 4,
 "nbformat_minor": 2
}
