{
 "cells": [
  {
   "cell_type": "code",
   "execution_count": 7,
   "metadata": {},
   "outputs": [],
   "source": [
    "import numpy as np\n",
    "import re\n",
    "import string\n",
    "import json\n",
    "from io import open\n",
    "import langconv\n",
    "import zh_wiki\n",
    "import glob\n",
    "import sys\n",
    "import load_data as ld"
   ]
  },
  {
   "cell_type": "code",
   "execution_count": 2,
   "metadata": {},
   "outputs": [],
   "source": [
    "def read_poet(filename):\n",
    "    data = []\n",
    "    poetsjson = open(filename)\n",
    "    poets = json.load(poetsjson)               \n",
    "    for p in poets:\n",
    "        data.extend(p['paragraphs'])\n",
    "    return data"
   ]
  },
  {
   "cell_type": "code",
   "execution_count": 3,
   "metadata": {},
   "outputs": [],
   "source": [
    "def poet2seq(poets):\n",
    "    data = []\n",
    "    data = [[c for c in seq] for seq in poets]\n",
    "    return data"
   ]
  },
  {
   "cell_type": "code",
   "execution_count": 4,
   "metadata": {},
   "outputs": [],
   "source": [
    "poets = read_poet('../data/poet/poet.tang.1000.json')"
   ]
  },
  {
   "cell_type": "code",
   "execution_count": 5,
   "metadata": {},
   "outputs": [],
   "source": [
    "seqs = poet2seq(poets)"
   ]
  },
  {
   "cell_type": "code",
   "execution_count": 10,
   "metadata": {},
   "outputs": [],
   "source": [
    "if __name__ == \"__main__\":\n",
    "    filenames = glob.glob('../data/poet/poet.tang.*.json') # I don't add song poem in\n",
    "    data = []\n",
    "    for fname in filenames:\n",
    "        data.extend(poet2seq(read_poet(fname)))\n",
    "    datas = np.load('../data/wikiseqdata.npy')\n",
    "    style = ld.StyleData([datas,data])\n",
    "    indexdata = ld.data2index([datas,data],style)\n",
    "    array = np.array(indexdata)\n",
    "    np.save('traindatawiki2poet',array)\n",
    "    style.save('wiki2poerstyle')"
   ]
  },
  {
   "cell_type": "code",
   "execution_count": null,
   "metadata": {},
   "outputs": [],
   "source": []
  },
  {
   "cell_type": "code",
   "execution_count": null,
   "metadata": {},
   "outputs": [],
   "source": []
  }
 ],
 "metadata": {
  "kernelspec": {
   "display_name": "Python 2",
   "language": "python",
   "name": "python2"
  },
  "language_info": {
   "codemirror_mode": {
    "name": "ipython",
    "version": 2
   },
   "file_extension": ".py",
   "mimetype": "text/x-python",
   "name": "python",
   "nbconvert_exporter": "python",
   "pygments_lexer": "ipython2",
   "version": "2.7.11"
  }
 },
 "nbformat": 4,
 "nbformat_minor": 2
}
