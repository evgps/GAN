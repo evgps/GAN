{
 "cells": [
  {
   "cell_type": "code",
   "execution_count": 9,
   "metadata": {},
   "outputs": [],
   "source": [
    "import numpy as np\n",
    "import random\n",
    "import re\n",
    "import langconv as lng\n",
    "import zh_wiki as zh\n",
    "import sys\n",
    "import jieba\n",
    "import sqlite3 as sql\n",
    "import load_data as ld"
   ]
  },
  {
   "cell_type": "code",
   "execution_count": 5,
   "metadata": {},
   "outputs": [],
   "source": [
    "# db = mydb.connect(\"\")"
   ]
  },
  {
   "cell_type": "code",
   "execution_count": 6,
   "metadata": {},
   "outputs": [],
   "source": [
    "songci = sql.connect(\"../data/ci.db\")"
   ]
  },
  {
   "cell_type": "code",
   "execution_count": 13,
   "metadata": {},
   "outputs": [],
   "source": [
    "filename = \"../data/ci.db\""
   ]
  },
  {
   "cell_type": "code",
   "execution_count": 14,
   "metadata": {},
   "outputs": [
    {
     "data": {
      "text/plain": [
       "['..', 'data', 'ci.db']"
      ]
     },
     "execution_count": 14,
     "metadata": {},
     "output_type": "execute_result"
    }
   ],
   "source": [
    "filename.split('/')"
   ]
  },
  {
   "cell_type": "code",
   "execution_count": 15,
   "metadata": {},
   "outputs": [
    {
     "data": {
      "text/plain": [
       "'ci'"
      ]
     },
     "execution_count": 15,
     "metadata": {},
     "output_type": "execute_result"
    }
   ],
   "source": [
    "re.split(r'[\\/\\.]',filename)[-2]"
   ]
  },
  {
   "cell_type": "code",
   "execution_count": null,
   "metadata": {},
   "outputs": [],
   "source": []
  },
  {
   "cell_type": "code",
   "execution_count": null,
   "metadata": {},
   "outputs": [],
   "source": []
  },
  {
   "cell_type": "code",
   "execution_count": null,
   "metadata": {},
   "outputs": [],
   "source": []
  },
  {
   "cell_type": "code",
   "execution_count": 10,
   "metadata": {},
   "outputs": [],
   "source": [
    "data = songci.cursor()"
   ]
  },
  {
   "cell_type": "code",
   "execution_count": 11,
   "metadata": {},
   "outputs": [],
   "source": [
    "ci = data.execute(\"\"\"\n",
    "select * from ci\n",
    "\"\"\")"
   ]
  },
  {
   "cell_type": "code",
   "execution_count": 12,
   "metadata": {},
   "outputs": [
    {
     "name": "stdout",
     "output_type": "stream",
     "text": [
      "气和玉烛，睿化著鸿明。\n",
      "缇管一阳生。\n",
      "郊盛礼燔柴毕，旋轸凤凰城。\n",
      "森罗仪卫振华缨。\n",
      "载路溢欢声。\n",
      "皇图大业超前古，垂象泰阶平。\n",
      "岁时丰衍，九土乐升平。\n",
      "睹寰海澄清。\n",
      "道高尧舜垂衣治，日月并文明。 \n",
      "\n",
      "\n",
      "严夜警，铜莲漏迟迟。\n",
      "清禁肃，森陛戟，羽卫俨皇闱。\n",
      "角声励，钲鼓攸宜。\n",
      "金管成雅奏，逐吹逶迤。\n",
      "荐苍璧，郊祀神祗。\n",
      "属景运纯禧。\n",
      "京坻丰衍，群材乐育，诸侯述职，盛德服蛮夷。\n",
      "殊祥萃，九苞丹凤来仪。\n",
      "膏露降，和气洽，三秀焕灵芝。\n",
      "鸿猷播，史册相辉。\n",
      "张四维。\n",
      "卜世永固丕基。\n",
      "敷玄化，荡荡无为。 \n",
      "\n",
      "\n"
     ]
    }
   ],
   "source": [
    "count = 0\n",
    "for i in ci:\n",
    "    print i[3],'\\n\\n'\n",
    "    if count > 0:\n",
    "        break\n",
    "    else :\n",
    "        count += 1"
   ]
  },
  {
   "cell_type": "code",
   "execution_count": 2,
   "metadata": {},
   "outputs": [],
   "source": [
    "def readsongci(filename):\n",
    "    db = sql.connect(filename)\n",
    "    data = db.cursor()\n",
    "    ci = data.execute(\"select * from \" + re.split(r'[\\/\\.]',filename)[-2])\n",
    "    songci = []\n",
    "    for seq in ci:\n",
    "        songci.append(seq[3].strip().split('\\n'))\n",
    "    return songci"
   ]
  },
  {
   "cell_type": "code",
   "execution_count": 3,
   "metadata": {},
   "outputs": [],
   "source": [
    "def ciandpoet2seq(poets):\n",
    "    data = []\n",
    "    for p in poets:\n",
    "        for seq in p:\n",
    "            data.append([c for c in seq])\n",
    "    return data    "
   ]
  },
  {
   "cell_type": "code",
   "execution_count": 6,
   "metadata": {},
   "outputs": [],
   "source": [
    "data = readsongci(filename)"
   ]
  },
  {
   "cell_type": "code",
   "execution_count": 7,
   "metadata": {},
   "outputs": [],
   "source": [
    "seqs = ciandpoet2seq(data)"
   ]
  },
  {
   "cell_type": "code",
   "execution_count": 18,
   "metadata": {},
   "outputs": [
    {
     "name": "stdout",
     "output_type": "stream",
     "text": [
      "/home/sunkroos/miniconda2/lib/python2.7/site-packages/ipykernel_launcher.py\n",
      "-f\n",
      "/run/user/1000/jupyter/kernel-891e01bb-bb9b-43e8-9c74-a870d11c01da.json\n"
     ]
    }
   ],
   "source": [
    "for i in sys.argv:\n",
    "    print i"
   ]
  },
  {
   "cell_type": "code",
   "execution_count": null,
   "metadata": {},
   "outputs": [],
   "source": []
  },
  {
   "cell_type": "code",
   "execution_count": 29,
   "metadata": {},
   "outputs": [
    {
     "name": "stdout",
     "output_type": "stream",
     "text": [
      "\n"
     ]
    }
   ],
   "source": [
    "if __name__ == \"__main__\":\n",
    "    filename = \"../data/ci.db\" if len(sys.argv) < 10 else sys.argv[1]\n",
    "    data = readsongci(filename)\n",
    "    seqs = ciandpoet2seq(data)\n",
    "    datas = np.load('../data/wikiseqdata.npy')[:len(seqs)]\n",
    "    style = ld.StyleData([datas,seqs])\n",
    "    seqdata = ld.data2index([datas,seqs],style=style)\n",
    "    style.save('wiki2songci')\n",
    "    array = np.array(seqdata)\n",
    "    np.save('traindatawiki2songci',array)"
   ]
  },
  {
   "cell_type": "code",
   "execution_count": 40,
   "metadata": {},
   "outputs": [
    {
     "data": {
      "text/plain": [
       "(array([ list([2, 3, 4, 5, 6, 7, 8, 9, 10, 11, 12, 13, 14, 15, 16, 9, 17, 18, 12, 19, 20, 6, 21, 16, 9, 22, 23, 24, 25, 26, 9, 11, 12, 27, 28, 29, 30, 31, 32, 1]),\n",
       "        list([33, 34, 35, 36, 37, 9, 3, 38, 5, 12, 39, 40, 9, 6, 41, 9, 42, 43, 44, 6, 45, 46, 9, 47, 32, 1]),\n",
       "        list([48, 49, 50, 51, 52, 53, 54, 12, 55, 56, 50, 57, 52, 58, 59, 12, 60, 56, 61, 62, 63, 64, 65, 9, 66, 12, 67, 20, 6, 48, 9, 68, 23, 69, 70, 32, 1]),\n",
       "        list([2, 13, 71, 72, 9, 7, 9, 73, 32, 1]),\n",
       "        list([2, 74, 75, 76, 12, 77, 78, 76, 12, 79, 70, 80, 81, 56, 82, 76, 32, 1]),\n",
       "        list([13, 83, 84, 9, 2, 85, 86, 80, 28, 9, 87, 88, 89, 76, 27, 12, 90, 2, 80, 91, 92, 9, 93, 32, 1]),\n",
       "        list([2, 94, 95, 76, 96, 97, 64, 12, 98, 76, 96, 99, 100, 64, 12, 101, 102, 103, 104, 9, 105, 32, 1]),\n",
       "        list([106, 64, 107, 108, 109, 12, 79, 110, 111, 112, 113, 114, 32, 1]),\n",
       "        list([115, 116, 117, 118, 119, 12, 63, 120, 121, 122, 123, 124, 32, 1]),\n",
       "        list([64, 9, 125, 23, 73, 126, 127, 32, 1])], dtype=object),\n",
       " array([ list([29539, 23, 11298, 211801, 12, 23682, 6254, 211802, 32887, 1155, 32, 1]),\n",
       "        list([60330, 5843, 272, 6393, 8413, 32, 1]),\n",
       "        list([64258, 23502, 7678, 88195, 15189, 23103, 12, 42290, 177393, 48569, 211803, 2111, 32, 1]),\n",
       "        list([4682, 35729, 45324, 12563, 80770, 9852, 211804, 32, 1]),\n",
       "        list([37881, 1017, 159969, 23768, 32584, 32, 1]),\n",
       "        list([10365, 8091, 164, 3406, 22635, 157, 2527, 12, 74358, 9466, 12656, 33960, 6374, 32, 1]),\n",
       "        list([4151, 290, 61226, 111074, 12, 10898, 342, 32517, 8321, 6374, 32, 1]),\n",
       "        list([211805, 22017, 139, 19759, 5908, 32, 1]),\n",
       "        list([970, 236, 15550, 25417, 74358, 9553, 8597, 12, 541, 340, 567, 10751, 1155, 32, 1]),\n",
       "        list([25926, 3569, 73664, 12, 3865, 7503, 46669, 37335, 37335, 32, 1])], dtype=object))"
      ]
     },
     "execution_count": 40,
     "metadata": {},
     "output_type": "execute_result"
    }
   ],
   "source": [
    "array[0][:10],array[1][:10]"
   ]
  },
  {
   "cell_type": "code",
   "execution_count": 35,
   "metadata": {},
   "outputs": [
    {
     "data": {
      "text/plain": [
       "3538"
      ]
     },
     "execution_count": 35,
     "metadata": {},
     "output_type": "execute_result"
    }
   ],
   "source": [
    "style.word2count[u'夜']"
   ]
  },
  {
   "cell_type": "code",
   "execution_count": 36,
   "metadata": {},
   "outputs": [
    {
     "data": {
      "text/plain": [
       "459"
      ]
     },
     "execution_count": 36,
     "metadata": {},
     "output_type": "execute_result"
    }
   ],
   "source": [
    "style.word2count[u'笛']"
   ]
  },
  {
   "cell_type": "code",
   "execution_count": 38,
   "metadata": {},
   "outputs": [
    {
     "data": {
      "text/plain": [
       "1091"
      ]
     },
     "execution_count": 38,
     "metadata": {},
     "output_type": "execute_result"
    }
   ],
   "source": [
    "style.word2count[u'凝']"
   ]
  },
  {
   "cell_type": "code",
   "execution_count": 37,
   "metadata": {},
   "outputs": [
    {
     "name": "stdout",
     "output_type": "stream",
     "text": [
      "休\n",
      "效\n",
      "牛\n",
      "山\n",
      "，\n",
      "空\n",
      "对\n",
      "江\n",
      "天\n",
      "凝\n",
      "咽\n",
      "。\n"
     ]
    }
   ],
   "source": [
    "for i in seqs[1008]:\n",
    "    print i"
   ]
  },
  {
   "cell_type": "code",
   "execution_count": 18,
   "metadata": {},
   "outputs": [
    {
     "name": "stderr",
     "output_type": "stream",
     "text": [
      "Building prefix dict from the default dictionary ...\n",
      "Loading model from cache /tmp/jieba.cache\n",
      "Loading model cost 0.291 seconds.\n",
      "Prefix dict has been built succesfully.\n"
     ]
    },
    {
     "name": "stdout",
     "output_type": "stream",
     "text": [
      "严\n",
      "夜警\n",
      "，\n",
      "铜莲漏\n",
      "迟迟\n",
      "。\n",
      "严\n",
      "夜\n",
      "警\n",
      "，\n",
      "铜\n",
      "莲\n",
      "漏\n",
      "迟\n",
      "迟\n",
      "。\n"
     ]
    }
   ],
   "source": [
    "for i in jieba.cut(data[1][0]):\n",
    "    print i\n",
    "for i in data[1][0]:\n",
    "    print i"
   ]
  },
  {
   "cell_type": "code",
   "execution_count": 19,
   "metadata": {},
   "outputs": [
    {
     "name": "stdout",
     "output_type": "stream",
     "text": [
      "气和玉烛，睿化著鸿明。\n",
      "缇管一阳生。\n",
      "郊盛礼燔柴毕，旋轸凤凰城。\n",
      "森罗仪卫振华缨。\n",
      "载路溢欢声。\n",
      "皇图大业超前古，垂象泰阶平。\n",
      "岁时丰衍，九土乐升平。\n",
      "睹寰海澄清。\n",
      "道高尧舜垂衣治，日月并文明。\n",
      "\n",
      "\n",
      "\n"
     ]
    }
   ],
   "source": [
    "for i in data[:1]:\n",
    "    for j in i:\n",
    "        print j\n",
    "    print '\\n\\n'"
   ]
  },
  {
   "cell_type": "code",
   "execution_count": null,
   "metadata": {},
   "outputs": [],
   "source": []
  },
  {
   "cell_type": "code",
   "execution_count": null,
   "metadata": {},
   "outputs": [],
   "source": []
  }
 ],
 "metadata": {
  "kernelspec": {
   "display_name": "Python 2",
   "language": "python",
   "name": "python2"
  },
  "language_info": {
   "codemirror_mode": {
    "name": "ipython",
    "version": 2
   },
   "file_extension": ".py",
   "mimetype": "text/x-python",
   "name": "python",
   "nbconvert_exporter": "python",
   "pygments_lexer": "ipython2",
   "version": "2.7.11"
  }
 },
 "nbformat": 4,
 "nbformat_minor": 2
}
